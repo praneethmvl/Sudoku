{
 "cells": [
  {
   "cell_type": "code",
   "execution_count": 42,
   "metadata": {},
   "outputs": [],
   "source": [
    "import numpy as np"
   ]
  },
  {
   "cell_type": "code",
   "execution_count": null,
   "metadata": {},
   "outputs": [],
   "source": [
    "#projectbyPS||__||"
   ]
  },
  {
   "cell_type": "code",
   "execution_count": 46,
   "metadata": {},
   "outputs": [],
   "source": [
    "def check(x, y, num):\n",
    "    global grid\n",
    "    for i in range(9):\n",
    "        if (grid[x][i] == num):# column\n",
    "            return False\n",
    "    for i in range(9):\n",
    "        if (grid[i][y] == num):#row\n",
    "            return False\n",
    "    qx = quad(x)\n",
    "    qy = quad(y)\n",
    "    for i in range(qx,qx+3):\n",
    "        for j in range(qy,qy+3):\n",
    "            if (grid[i][j] == num):\n",
    "                return False\n",
    "    return True\n"
   ]
  },
  {
   "cell_type": "code",
   "execution_count": 47,
   "metadata": {},
   "outputs": [],
   "source": [
    "def quad(loc):\n",
    "    q = 0\n",
    "    if (loc >= 0 and loc <= 2) :\n",
    "        q = 0    \n",
    "    if (loc >= 3 and loc <= 5) :\n",
    "        q = 3\n",
    "    if (loc >= 6 and loc <= 8) :\n",
    "        q = 6\n",
    "\n",
    "    return q\n"
   ]
  },
  {
   "cell_type": "code",
   "execution_count": 48,
   "metadata": {},
   "outputs": [],
   "source": [
    "def solve():\n",
    "    global grid\n",
    "    for y in range(9):\n",
    "        for x in range(9):\n",
    "            if grid[y][x] == 0:\n",
    "                for n in range(1,10):\n",
    "                    if check(y,x,n):\n",
    "                        grid[y][x] = n\n",
    "                        solve()\n",
    "                        grid[y][x] = 0\n",
    "                return\n",
    "#     printmat()\n",
    "    print (np.matrix(grid))\n",
    "    input(\"more??\")"
   ]
  },
  {
   "cell_type": "code",
   "execution_count": 55,
   "metadata": {},
   "outputs": [],
   "source": [
    "grid=[[ 3, 0, 6, 5, 0, 0, 4, 0, 0 ], [ 5, 2, 0, 0, 0, 0, 0, 0, 0 ], [ 0, 8, 7, 0, 0, 0, 0, 3, 1 ],\n",
    "[ 0, 0, 3, 0, 1, 0, 0, 8, 0 ], [ 9, 0, 0, 8, 6, 3, 0, 0, 5 ], [ 0, 5, 0, 0, 0, 0, 6, 0, 0 ],\n",
    "[ 1, 3, 0, 0, 0, 0, 2, 0 ,0 ], [ 0, 0, 0, 0, 0, 0, 0, 7, 4 ], [ 0, 0, 5, 2, 0, 6, 3, 0, 0 ]]"
   ]
  },
  {
   "cell_type": "code",
   "execution_count": 56,
   "metadata": {
    "collapsed": true
   },
   "outputs": [
    {
     "name": "stdout",
     "output_type": "stream",
     "text": [
      "[[3 1 6 5 7 8 4 2 9]\n",
      " [5 2 9 1 3 4 8 6 7]\n",
      " [4 8 7 6 9 2 5 3 1]\n",
      " [6 4 3 9 1 5 7 8 2]\n",
      " [9 7 2 8 6 3 1 4 5]\n",
      " [8 5 1 4 2 7 6 9 3]\n",
      " [1 3 4 7 8 9 2 5 6]\n",
      " [2 6 8 3 5 1 9 7 4]\n",
      " [7 9 5 2 4 6 3 1 8]]\n",
      "more??\n",
      "[[3 1 6 5 7 8 4 9 2]\n",
      " [5 2 9 1 3 4 7 6 8]\n",
      " [4 8 7 6 2 9 5 3 1]\n",
      " [2 6 3 4 1 5 9 8 7]\n",
      " [9 7 4 8 6 3 1 2 5]\n",
      " [8 5 1 7 9 2 6 4 3]\n",
      " [1 3 8 9 4 7 2 5 6]\n",
      " [6 9 2 3 5 1 8 7 4]\n",
      " [7 4 5 2 8 6 3 1 9]]\n",
      "more??\n",
      "[[3 1 6 5 7 8 4 9 2]\n",
      " [5 2 9 1 3 4 7 6 8]\n",
      " [4 8 7 6 9 2 5 3 1]\n",
      " [2 6 3 4 1 5 9 8 7]\n",
      " [9 7 4 8 6 3 1 2 5]\n",
      " [8 5 1 7 2 9 6 4 3]\n",
      " [1 3 8 9 4 7 2 5 6]\n",
      " [6 9 2 3 5 1 8 7 4]\n",
      " [7 4 5 2 8 6 3 1 9]]\n",
      "more??\n",
      "[[3 1 6 5 7 8 4 9 2]\n",
      " [5 2 9 1 3 4 7 6 8]\n",
      " [4 8 7 6 9 2 5 3 1]\n",
      " [2 6 3 4 1 5 9 8 7]\n",
      " [9 7 4 8 6 3 1 2 5]\n",
      " [8 5 1 9 2 7 6 4 3]\n",
      " [1 3 8 7 4 9 2 5 6]\n",
      " [6 9 2 3 5 1 8 7 4]\n",
      " [7 4 5 2 8 6 3 1 9]]\n",
      "more??\n",
      "[[3 1 6 5 8 7 4 2 9]\n",
      " [5 2 9 1 3 4 8 6 7]\n",
      " [4 8 7 6 2 9 5 3 1]\n",
      " [6 4 3 9 1 5 7 8 2]\n",
      " [9 7 2 8 6 3 1 4 5]\n",
      " [8 5 1 4 7 2 6 9 3]\n",
      " [1 3 4 7 9 8 2 5 6]\n",
      " [2 6 8 3 5 1 9 7 4]\n",
      " [7 9 5 2 4 6 3 1 8]]\n",
      "more??\n"
     ]
    }
   ],
   "source": [
    "solve()"
   ]
  },
  {
   "cell_type": "code",
   "execution_count": 25,
   "metadata": {},
   "outputs": [],
   "source": [
    "def printmat():\n",
    "        for i in range(9):\n",
    "            for j in range(9):\n",
    "                    print(grid[i][j],\" \",end=\"\")\n",
    "            print() "
   ]
  },
  {
   "cell_type": "code",
   "execution_count": 33,
   "metadata": {},
   "outputs": [
    {
     "name": "stdout",
     "output_type": "stream",
     "text": [
      "3  0  6  5  0  8  4  0  0  \n",
      "5  2  0  0  0  0  0  0  0  \n",
      "0  8  7  0  0  0  0  3  1  \n",
      "0  0  3  0  1  0  0  8  0  \n",
      "9  0  0  8  6  3  0  0  5  \n",
      "0  5  0  0  9  0  6  0  0  \n",
      "1  3  0  0  0  0  2  5  0  \n",
      "0  0  0  0  0  0  0  7  4  \n",
      "0  0  5  2  0  6  3  0  0  \n"
     ]
    }
   ],
   "source": [
    "printmat()"
   ]
  },
  {
   "cell_type": "code",
   "execution_count": 35,
   "metadata": {},
   "outputs": [
    {
     "data": {
      "text/plain": [
       "True"
      ]
     },
     "execution_count": 35,
     "metadata": {},
     "output_type": "execute_result"
    }
   ],
   "source": [
    "check(0,1,1)"
   ]
  },
  {
   "cell_type": "code",
   "execution_count": null,
   "metadata": {},
   "outputs": [],
   "source": []
  }
 ],
 "metadata": {
  "kernelspec": {
   "display_name": "Python 3",
   "language": "python",
   "name": "python3"
  },
  "language_info": {
   "codemirror_mode": {
    "name": "ipython",
    "version": 3
   },
   "file_extension": ".py",
   "mimetype": "text/x-python",
   "name": "python",
   "nbconvert_exporter": "python",
   "pygments_lexer": "ipython3",
   "version": "3.8.3"
  }
 },
 "nbformat": 4,
 "nbformat_minor": 4
}
